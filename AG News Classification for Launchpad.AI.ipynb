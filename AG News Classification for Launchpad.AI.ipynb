{
 "cells": [
  {
   "cell_type": "code",
   "execution_count": 5,
   "metadata": {},
   "outputs": [],
   "source": [
    "# Importing Libraries\n",
    "import tensorflow as tf\n",
    "from tensorflow import keras\n",
    "import numpy as np\n",
    "import pandas as pd\n",
    "import matplotlib.pyplot as plt\n",
    "import re\n",
    "import string \n",
    "import warnings \n",
    "import seaborn as sns \n",
    "import matplotlib.pyplot as plt  \n",
    "from sklearn.model_selection import train_test_split"
   ]
  },
  {
   "cell_type": "code",
   "execution_count": 6,
   "metadata": {},
   "outputs": [],
   "source": [
    "# Loading the training and test datasets from directory\n",
    "train = pd.read_csv(\"train.csv\")\n",
    "test = pd.read_csv(\"test.csv\")"
   ]
  },
  {
   "cell_type": "markdown",
   "metadata": {},
   "source": [
    "# EDA, plotting and splitting"
   ]
  },
  {
   "cell_type": "code",
   "execution_count": 7,
   "metadata": {},
   "outputs": [
    {
     "data": {
      "text/html": [
       "<div>\n",
       "<style scoped>\n",
       "    .dataframe tbody tr th:only-of-type {\n",
       "        vertical-align: middle;\n",
       "    }\n",
       "\n",
       "    .dataframe tbody tr th {\n",
       "        vertical-align: top;\n",
       "    }\n",
       "\n",
       "    .dataframe thead th {\n",
       "        text-align: right;\n",
       "    }\n",
       "</style>\n",
       "<table border=\"1\" class=\"dataframe\">\n",
       "  <thead>\n",
       "    <tr style=\"text-align: right;\">\n",
       "      <th></th>\n",
       "      <th>3</th>\n",
       "      <th>Wall St. Bears Claw Back Into the Black (Reuters)</th>\n",
       "      <th>Reuters - Short-sellers, Wall Street's dwindling\\band of ultra-cynics, are seeing green again.</th>\n",
       "    </tr>\n",
       "  </thead>\n",
       "  <tbody>\n",
       "    <tr>\n",
       "      <th>0</th>\n",
       "      <td>3</td>\n",
       "      <td>Carlyle Looks Toward Commercial Aerospace (Reu...</td>\n",
       "      <td>Reuters - Private investment firm Carlyle Grou...</td>\n",
       "    </tr>\n",
       "    <tr>\n",
       "      <th>1</th>\n",
       "      <td>3</td>\n",
       "      <td>Oil and Economy Cloud Stocks' Outlook (Reuters)</td>\n",
       "      <td>Reuters - Soaring crude prices plus worries\\ab...</td>\n",
       "    </tr>\n",
       "    <tr>\n",
       "      <th>2</th>\n",
       "      <td>3</td>\n",
       "      <td>Iraq Halts Oil Exports from Main Southern Pipe...</td>\n",
       "      <td>Reuters - Authorities have halted oil export\\f...</td>\n",
       "    </tr>\n",
       "    <tr>\n",
       "      <th>3</th>\n",
       "      <td>3</td>\n",
       "      <td>Oil prices soar to all-time record, posing new...</td>\n",
       "      <td>AFP - Tearaway world oil prices, toppling reco...</td>\n",
       "    </tr>\n",
       "    <tr>\n",
       "      <th>4</th>\n",
       "      <td>3</td>\n",
       "      <td>Stocks End Up, But Near Year Lows (Reuters)</td>\n",
       "      <td>Reuters - Stocks ended slightly higher on Frid...</td>\n",
       "    </tr>\n",
       "  </tbody>\n",
       "</table>\n",
       "</div>"
      ],
      "text/plain": [
       "   3  Wall St. Bears Claw Back Into the Black (Reuters)  \\\n",
       "0  3  Carlyle Looks Toward Commercial Aerospace (Reu...   \n",
       "1  3    Oil and Economy Cloud Stocks' Outlook (Reuters)   \n",
       "2  3  Iraq Halts Oil Exports from Main Southern Pipe...   \n",
       "3  3  Oil prices soar to all-time record, posing new...   \n",
       "4  3        Stocks End Up, But Near Year Lows (Reuters)   \n",
       "\n",
       "  Reuters - Short-sellers, Wall Street's dwindling\\band of ultra-cynics, are seeing green again.  \n",
       "0  Reuters - Private investment firm Carlyle Grou...                                              \n",
       "1  Reuters - Soaring crude prices plus worries\\ab...                                              \n",
       "2  Reuters - Authorities have halted oil export\\f...                                              \n",
       "3  AFP - Tearaway world oil prices, toppling reco...                                              \n",
       "4  Reuters - Stocks ended slightly higher on Frid...                                              "
      ]
     },
     "execution_count": 7,
     "metadata": {},
     "output_type": "execute_result"
    }
   ],
   "source": [
    "train.head() #Previewing the data"
   ]
  },
  {
   "cell_type": "code",
   "execution_count": 8,
   "metadata": {},
   "outputs": [
    {
     "data": {
      "text/html": [
       "<div>\n",
       "<style scoped>\n",
       "    .dataframe tbody tr th:only-of-type {\n",
       "        vertical-align: middle;\n",
       "    }\n",
       "\n",
       "    .dataframe tbody tr th {\n",
       "        vertical-align: top;\n",
       "    }\n",
       "\n",
       "    .dataframe thead th {\n",
       "        text-align: right;\n",
       "    }\n",
       "</style>\n",
       "<table border=\"1\" class=\"dataframe\">\n",
       "  <thead>\n",
       "    <tr style=\"text-align: right;\">\n",
       "      <th></th>\n",
       "      <th>3</th>\n",
       "      <th>Wall St. Bears Claw Back Into the Black (Reuters)</th>\n",
       "      <th>Reuters - Short-sellers, Wall Street's dwindling\\band of ultra-cynics, are seeing green again.</th>\n",
       "    </tr>\n",
       "  </thead>\n",
       "  <tbody>\n",
       "    <tr>\n",
       "      <th>119994</th>\n",
       "      <td>1</td>\n",
       "      <td>Pakistan's Musharraf Says Won't Quit as Army C...</td>\n",
       "      <td>KARACHI (Reuters) - Pakistani President Perve...</td>\n",
       "    </tr>\n",
       "    <tr>\n",
       "      <th>119995</th>\n",
       "      <td>2</td>\n",
       "      <td>Renteria signing a top-shelf deal</td>\n",
       "      <td>Red Sox general manager Theo Epstein acknowled...</td>\n",
       "    </tr>\n",
       "    <tr>\n",
       "      <th>119996</th>\n",
       "      <td>2</td>\n",
       "      <td>Saban not going to Dolphins yet</td>\n",
       "      <td>The Miami Dolphins will put their courtship of...</td>\n",
       "    </tr>\n",
       "    <tr>\n",
       "      <th>119997</th>\n",
       "      <td>2</td>\n",
       "      <td>Today's NFL games</td>\n",
       "      <td>PITTSBURGH at NY GIANTS Time: 1:30 p.m. Line: ...</td>\n",
       "    </tr>\n",
       "    <tr>\n",
       "      <th>119998</th>\n",
       "      <td>2</td>\n",
       "      <td>Nets get Carter from Raptors</td>\n",
       "      <td>INDIANAPOLIS -- All-Star Vince Carter was trad...</td>\n",
       "    </tr>\n",
       "  </tbody>\n",
       "</table>\n",
       "</div>"
      ],
      "text/plain": [
       "        3  Wall St. Bears Claw Back Into the Black (Reuters)  \\\n",
       "119994  1  Pakistan's Musharraf Says Won't Quit as Army C...   \n",
       "119995  2                  Renteria signing a top-shelf deal   \n",
       "119996  2                    Saban not going to Dolphins yet   \n",
       "119997  2                                  Today's NFL games   \n",
       "119998  2                       Nets get Carter from Raptors   \n",
       "\n",
       "       Reuters - Short-sellers, Wall Street's dwindling\\band of ultra-cynics, are seeing green again.  \n",
       "119994   KARACHI (Reuters) - Pakistani President Perve...                                              \n",
       "119995  Red Sox general manager Theo Epstein acknowled...                                              \n",
       "119996  The Miami Dolphins will put their courtship of...                                              \n",
       "119997  PITTSBURGH at NY GIANTS Time: 1:30 p.m. Line: ...                                              \n",
       "119998  INDIANAPOLIS -- All-Star Vince Carter was trad...                                              "
      ]
     },
     "execution_count": 8,
     "metadata": {},
     "output_type": "execute_result"
    }
   ],
   "source": [
    "train.tail()"
   ]
  },
  {
   "cell_type": "code",
   "execution_count": 9,
   "metadata": {},
   "outputs": [],
   "source": [
    "#Inserting column names\n",
    "train.columns = ['Class Index', 'Title', 'Description']"
   ]
  },
  {
   "cell_type": "code",
   "execution_count": 10,
   "metadata": {},
   "outputs": [],
   "source": [
    "test.columns = ['Class Index', 'Title', 'Description']"
   ]
  },
  {
   "cell_type": "code",
   "execution_count": 11,
   "metadata": {},
   "outputs": [
    {
     "data": {
      "text/html": [
       "<div>\n",
       "<style scoped>\n",
       "    .dataframe tbody tr th:only-of-type {\n",
       "        vertical-align: middle;\n",
       "    }\n",
       "\n",
       "    .dataframe tbody tr th {\n",
       "        vertical-align: top;\n",
       "    }\n",
       "\n",
       "    .dataframe thead th {\n",
       "        text-align: right;\n",
       "    }\n",
       "</style>\n",
       "<table border=\"1\" class=\"dataframe\">\n",
       "  <thead>\n",
       "    <tr style=\"text-align: right;\">\n",
       "      <th></th>\n",
       "      <th>Class Index</th>\n",
       "      <th>Title</th>\n",
       "      <th>Description</th>\n",
       "    </tr>\n",
       "  </thead>\n",
       "  <tbody>\n",
       "    <tr>\n",
       "      <th>119994</th>\n",
       "      <td>1</td>\n",
       "      <td>Pakistan's Musharraf Says Won't Quit as Army C...</td>\n",
       "      <td>KARACHI (Reuters) - Pakistani President Perve...</td>\n",
       "    </tr>\n",
       "    <tr>\n",
       "      <th>119995</th>\n",
       "      <td>2</td>\n",
       "      <td>Renteria signing a top-shelf deal</td>\n",
       "      <td>Red Sox general manager Theo Epstein acknowled...</td>\n",
       "    </tr>\n",
       "    <tr>\n",
       "      <th>119996</th>\n",
       "      <td>2</td>\n",
       "      <td>Saban not going to Dolphins yet</td>\n",
       "      <td>The Miami Dolphins will put their courtship of...</td>\n",
       "    </tr>\n",
       "    <tr>\n",
       "      <th>119997</th>\n",
       "      <td>2</td>\n",
       "      <td>Today's NFL games</td>\n",
       "      <td>PITTSBURGH at NY GIANTS Time: 1:30 p.m. Line: ...</td>\n",
       "    </tr>\n",
       "    <tr>\n",
       "      <th>119998</th>\n",
       "      <td>2</td>\n",
       "      <td>Nets get Carter from Raptors</td>\n",
       "      <td>INDIANAPOLIS -- All-Star Vince Carter was trad...</td>\n",
       "    </tr>\n",
       "  </tbody>\n",
       "</table>\n",
       "</div>"
      ],
      "text/plain": [
       "        Class Index                                              Title  \\\n",
       "119994            1  Pakistan's Musharraf Says Won't Quit as Army C...   \n",
       "119995            2                  Renteria signing a top-shelf deal   \n",
       "119996            2                    Saban not going to Dolphins yet   \n",
       "119997            2                                  Today's NFL games   \n",
       "119998            2                       Nets get Carter from Raptors   \n",
       "\n",
       "                                              Description  \n",
       "119994   KARACHI (Reuters) - Pakistani President Perve...  \n",
       "119995  Red Sox general manager Theo Epstein acknowled...  \n",
       "119996  The Miami Dolphins will put their courtship of...  \n",
       "119997  PITTSBURGH at NY GIANTS Time: 1:30 p.m. Line: ...  \n",
       "119998  INDIANAPOLIS -- All-Star Vince Carter was trad...  "
      ]
     },
     "execution_count": 11,
     "metadata": {},
     "output_type": "execute_result"
    }
   ],
   "source": [
    "train.tail(5)"
   ]
  },
  {
   "cell_type": "code",
   "execution_count": 12,
   "metadata": {},
   "outputs": [
    {
     "name": "stdout",
     "output_type": "stream",
     "text": [
      "shape of data >> (119999,)\n",
      "shape of label >> (119999, 4)\n",
      "\n",
      "shape of data >> (7599,)\n",
      "shape of label >> (7599, 4)\n",
      "\n"
     ]
    }
   ],
   "source": [
    "#Split Contents and labelling\n",
    "index_to_label ={\n",
    "    1:'World',\n",
    "    2:'Sports',\n",
    "    3:'Business',\n",
    "    4:'Sci/Tech'\n",
    "}\n",
    "\n",
    "def return_dataset(dataset):\n",
    "    label = dataset[\"Class Index\"]\n",
    "    label = pd.get_dummies(label)\n",
    "    data = dataset[\"Title\"] + \" \" + dataset[\"Description\"]\n",
    "    print(f\"shape of data >> {data.shape}\")\n",
    "    print(f\"shape of label >> {label.shape}\\n\")\n",
    "    return data,label\n",
    "\n",
    "train_data,train_label = return_dataset(train)\n",
    "test_data,test_label = return_dataset(test)"
   ]
  },
  {
   "cell_type": "code",
   "execution_count": 13,
   "metadata": {},
   "outputs": [
    {
     "data": {
      "image/png": "[encoded data removed]",
      "text/plain": [
       "<Figure size 576x576 with 2 Axes>"
      ]
     },
     "metadata": {},
     "output_type": "display_data"
    }
   ],
   "source": [
    "#EDA on both data sets\n",
    "sns.set_style(\"whitegrid\")\n",
    "\n",
    "fig = plt.figure(figsize=(8,8))\n",
    "axe1 = fig.add_subplot(1,2,1)\n",
    "sns.countplot(data=train_label)\n",
    "axe1.set_title(\"train dataset\")\n",
    "axe1.set_xlabel([index_to_label[i] for i in range(1,5)])\n",
    "\n",
    "axe2 = fig.add_subplot(1,2,2)\n",
    "sns.countplot(data=test_label)\n",
    "axe2.set_title(\"test dataset\")\n",
    "axe2.set_xlabel([index_to_label[i] for i in range(1,5)])\n",
    "\n",
    "\n",
    "plt.tight_layout()\n",
    "plt.show()"
   ]
  },
  {
   "cell_type": "markdown",
   "metadata": {},
   "source": [
    "# Data Preprocesssing(Tokenizing then Pad Sequences)\n"
   ]
  },
  {
   "cell_type": "code",
   "execution_count": 14,
   "metadata": {},
   "outputs": [
    {
     "name": "stdout",
     "output_type": "stream",
     "text": [
      "numbers of words used >> 70344\n",
      "First two samples\n",
      "[877, 21, 21, 920, 811, 352, 99, 102, 22, 3, 8, 508, 509, 6, 5, 1, 530, 247, 22, 15, 7, 212, 368, 4, 1, 128]\n",
      "[53, 6, 376, 766, 21, 21, 462, 90, 66, 1, 376, 6, 1, 766, 8, 284, 40, 191, 2, 34, 1, 296, 128, 111, 82, 233, 1, 4, 1]\n"
     ]
    }
   ],
   "source": [
    "# Tokenizing the Data\n",
    "from keras.preprocessing.text import Tokenizer\n",
    "\n",
    "tok = Tokenizer()\n",
    "tok.fit_on_texts(train_data)\n",
    "print(f\"numbers of words used >> {len(tok.word_index)}\")\n",
    "\n",
    "word_size = 999\n",
    "vocab_size = word_size+1 #1000\n",
    "\n",
    "tok = Tokenizer(num_words=word_size)\n",
    "tok.fit_on_texts(train_data)\n",
    "\n",
    "word_index = tok.word_index\n",
    "index_word = tok.index_word\n",
    "\n",
    "train_data = tok.texts_to_sequences(train_data)\n",
    "test_data = tok.texts_to_sequences(test_data)\n",
    "\n",
    "print(\"First two samples\")\n",
    "print(train_data[0])\n",
    "print(train_data[1])"
   ]
  },
  {
   "cell_type": "code",
   "execution_count": 15,
   "metadata": {},
   "outputs": [
    {
     "name": "stdout",
     "output_type": "stream",
     "text": [
      "maximum >> 127\n",
      "minimum >> 1\n",
      "average >> 26.063817198476652\n",
      "median >> 25.0\n",
      "\n"
     ]
    },
    {
     "data": {
      "image/png": "[encoded data removed]",
      "text/plain": [
       "<Figure size 432x288 with 1 Axes>"
      ]
     },
     "metadata": {},
     "output_type": "display_data"
    },
    {
     "name": "stdout",
     "output_type": "stream",
     "text": [
      "print first two samples\n",
      "[877  21  21 920 811 352  99 102  22   3   8 508 509   6   5   1 530 247\n",
      "  22  15   7 212 368   4   1 128   0   0   0   0   0   0   0   0   0   0\n",
      "   0   0   0   0   0   0   0   0   0   0   0   0   0   0]\n",
      "[ 53   6 376 766  21  21 462  90  66   1 376   6   1 766   8 284  40 191\n",
      "   2  34   1 296 128 111  82 233   1   4   1   0   0   0   0   0   0   0\n",
      "   0   0   0   0   0   0   0   0   0   0   0   0   0   0]\n",
      "\n",
      "train data shape >> (119999, 50)\n",
      "test data shape >> (7599, 50)\n"
     ]
    }
   ],
   "source": [
    "#Pad Sequences\n",
    "from tensorflow.keras.preprocessing.sequence import pad_sequences\n",
    "\n",
    "print(f\"maximum >> {np.max([len(s)for s in train_data])}\")\n",
    "print(f\"minimum >> {np.min([len(s)for s in train_data])}\")\n",
    "print(f\"average >> {np.mean([len(s)for s in train_data])}\")\n",
    "print(f\"median >> {np.median([len(s)for s in train_data])}\\n\")\n",
    "\n",
    "lens = [len(s) for s in train_data]\n",
    "plt.hist(lens,bins=50)\n",
    "plt.show()\n",
    "\n",
    "sequence_len = 50\n",
    "\n",
    "train_data = pad_sequences(train_data,maxlen=sequence_len,padding='post',truncating='post')\n",
    "test_data = pad_sequences(test_data,maxlen=sequence_len,padding='post',truncating='post')\n",
    "\n",
    "print(\"print first two samples\")\n",
    "print(train_data[0])\n",
    "print(train_data[1])\n",
    "\n",
    "print(\"\\ntrain data shape >>\",train_data.shape)\n",
    "print(\"test data shape >>\",test_data.shape)"
   ]
  },
  {
   "cell_type": "code",
   "execution_count": 16,
   "metadata": {},
   "outputs": [],
   "source": [
    "# Model and train-test\n",
    "# Then we model with RNNs\n",
    "from keras.layers import Input,Embedding,GlobalAveragePooling1D,Dense,LSTM,Bidirectional,TimeDistributed\n",
    "\n",
    "def create_simple_model(word_vec_size=64):\n",
    "    X = Input(shape=[sequence_len])\n",
    "    H = Embedding(vocab_size,word_vec_size,input_length=sequence_len)(X)\n",
    "    H = GlobalAveragePooling1D()(H)\n",
    "    Y = Dense(4,activation='softmax')(H)\n",
    "    \n",
    "    model = keras.models.Model(X,Y)\n",
    "    model.compile(loss='categorical_crossentropy',optimizer='adam',metrics=['accuracy'])\n",
    "    \n",
    "    return model"
   ]
  },
  {
   "cell_type": "code",
   "execution_count": 17,
   "metadata": {},
   "outputs": [],
   "source": [
    "from keras.utils import plot_model\n",
    "from keras.callbacks import ReduceLROnPlateau\n",
    "\n",
    "reduceLR = ReduceLROnPlateau(monitor='val_loss',patience=3,factor=0.5,min_lr=0.0001,verbose=1)\n",
    "\n",
    "def fit_test(model,n):\n",
    "    hist = model.fit(train_data,train_label,batch_size=64,validation_split=0.2,epochs=n,verbose=0,callbacks=[reduceLR])\n",
    "    result = model.evaluate(test_data,test_label)\n",
    "    \n",
    "    return hist,result"
   ]
  },
  {
   "cell_type": "code",
   "execution_count": 18,
   "metadata": {},
   "outputs": [
    {
     "name": "stdout",
     "output_type": "stream",
     "text": [
      "\n",
      "Epoch 7: ReduceLROnPlateau reducing learning rate to 0.0005000000237487257.\n",
      "238/238 [==============================] - 1s 2ms/step - loss: 0.4071 - accuracy: 0.8572\n",
      "You must install pydot (`pip install pydot`) and install graphviz (see instructions at https://graphviz.gitlab.io/download/) for plot_model/model_to_dot to work.\n"
     ]
    }
   ],
   "source": [
    "simple1 = create_simple_model(64)\n",
    "fit_test(simple1,7)\n",
    "plot_model(simple1)"
   ]
  },
  {
   "cell_type": "code",
   "execution_count": 19,
   "metadata": {},
   "outputs": [
    {
     "name": "stdout",
     "output_type": "stream",
     "text": [
      "\n",
      "Epoch 6: ReduceLROnPlateau reducing learning rate to 0.0005000000237487257.\n",
      "238/238 [==============================] - 1s 3ms/step - loss: 0.4062 - accuracy: 0.8566\n",
      "You must install pydot (`pip install pydot`) and install graphviz (see instructions at https://graphviz.gitlab.io/download/) for plot_model/model_to_dot to work.\n"
     ]
    }
   ],
   "source": [
    "simple2 = create_simple_model(128)\n",
    "fit_test(simple2,7)\n",
    "plot_model(simple2)"
   ]
  },
  {
   "cell_type": "code",
   "execution_count": 20,
   "metadata": {},
   "outputs": [],
   "source": [
    "#Model with LSTM(RNN) : bidirectional,many-to-one,stacked\n",
    "from keras.layers import Dropout\n",
    "\n",
    "def create_LSTM(word_vec_size=64,hidden_size=64):\n",
    "    X = Input(shape=[sequence_len])\n",
    "    H = Embedding(vocab_size,word_vec_size,input_length=sequence_len)(X)\n",
    "    H = Bidirectional(LSTM(hidden_size,return_sequences=True))(H)\n",
    "    H = Bidirectional(LSTM(int(hidden_size/2),return_sequences=True))(H)\n",
    "    H = GlobalAveragePooling1D()(H)\n",
    "    \n",
    "    H = Dropout(0.2)(H)\n",
    "    H = Dense(1024)(H)\n",
    "    H = Dropout(0.2)(H)\n",
    "    H = Dense(256)(H)\n",
    "    H = Dropout(0.2)(H)\n",
    "    H = Dense(32)(H)\n",
    "    H = Dropout(0.1)(H)\n",
    "    \n",
    "    Y = Dense(4,activation='softmax')(H)\n",
    "    \n",
    "    model = keras.models.Model(X,Y)\n",
    "    model.compile(loss='categorical_crossentropy',optimizer='adam',metrics=['accuracy'])\n",
    "    \n",
    "    return model"
   ]
  },
  {
   "cell_type": "code",
   "execution_count": 21,
   "metadata": {
    "scrolled": true
   },
   "outputs": [
    {
     "name": "stdout",
     "output_type": "stream",
     "text": [
      "Epoch 1/10\n",
      "375/375 [==============================] - 3641s 10s/step - loss: 0.5102 - accuracy: 0.8112 - val_loss: 0.3945 - val_accuracy: 0.8570 - lr: 0.0010\n",
      "Epoch 2/10\n",
      "375/375 [==============================] - 3499s 9s/step - loss: 0.3889 - accuracy: 0.8656 - val_loss: 0.3917 - val_accuracy: 0.8563 - lr: 0.0010\n",
      "Epoch 3/10\n",
      "375/375 [==============================] - 3508s 9s/step - loss: 0.3701 - accuracy: 0.8713 - val_loss: 0.3802 - val_accuracy: 0.8605 - lr: 0.0010\n",
      "Epoch 4/10\n",
      "375/375 [==============================] - 3591s 10s/step - loss: 0.3521 - accuracy: 0.8760 - val_loss: 0.3914 - val_accuracy: 0.8559 - lr: 0.0010\n",
      "Epoch 5/10\n",
      "375/375 [==============================] - 3540s 9s/step - loss: 0.3355 - accuracy: 0.8811 - val_loss: 0.3885 - val_accuracy: 0.8595 - lr: 0.0010\n",
      "Epoch 6/10\n",
      "375/375 [==============================] - ETA: 0s - loss: 0.3188 - accuracy: 0.8873\n",
      "Epoch 6: ReduceLROnPlateau reducing learning rate to 0.0005000000237487257.\n",
      "375/375 [==============================] - 3611s 10s/step - loss: 0.3188 - accuracy: 0.8873 - val_loss: 0.3846 - val_accuracy: 0.8633 - lr: 0.0010\n",
      "Epoch 7/10\n",
      "375/375 [==============================] - 3575s 10s/step - loss: 0.2828 - accuracy: 0.8993 - val_loss: 0.3708 - val_accuracy: 0.8659 - lr: 5.0000e-04\n",
      "Epoch 8/10\n",
      "375/375 [==============================] - 3641s 10s/step - loss: 0.2693 - accuracy: 0.9026 - val_loss: 0.3785 - val_accuracy: 0.8662 - lr: 5.0000e-04\n",
      "Epoch 9/10\n",
      "375/375 [==============================] - 3637s 10s/step - loss: 0.2590 - accuracy: 0.9076 - val_loss: 0.3802 - val_accuracy: 0.8658 - lr: 5.0000e-04\n",
      "Epoch 10/10\n",
      "375/375 [==============================] - ETA: 0s - loss: 0.2467 - accuracy: 0.9107\n",
      "Epoch 10: ReduceLROnPlateau reducing learning rate to 0.0002500000118743628.\n",
      "375/375 [==============================] - 3645s 10s/step - loss: 0.2467 - accuracy: 0.9107 - val_loss: 0.4003 - val_accuracy: 0.8610 - lr: 5.0000e-04\n",
      "238/238 [==============================] - 156s 656ms/step - loss: 0.3709 - accuracy: 0.8745\n"
     ]
    }
   ],
   "source": [
    "lstm1 = create_LSTM(256,256)\n",
    "hist = lstm1.fit(train_data,train_label,batch_size=256,validation_split=0.2,epochs=10,verbose=1,callbacks=[reduceLR])\n",
    "ev = lstm1.evaluate(test_data,test_label)"
   ]
  },
  {
   "cell_type": "code",
   "execution_count": null,
   "metadata": {},
   "outputs": [],
   "source": [
    "#Further exploration and modeling with Naive Bayes classifiers, and other Keras dependencies rerutns an average accuracy of 87%. \n",
    "#we can train and compare with is better"
   ]
  }
 ],
 "metadata": {
  "kernelspec": {
   "display_name": "Python 3",
   "language": "python",
   "name": "python3"
  },
  "language_info": {
   "codemirror_mode": {
    "name": "ipython",
    "version": 3
   },
   "file_extension": ".py",
   "mimetype": "text/x-python",
   "name": "python",
   "nbconvert_exporter": "python",
   "pygments_lexer": "ipython3",
   "version": "3.8.5"
  }
 },
 "nbformat": 4,
 "nbformat_minor": 4
}
